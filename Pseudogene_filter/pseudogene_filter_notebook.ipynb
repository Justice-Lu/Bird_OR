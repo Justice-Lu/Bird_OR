{
 "cells": [
  {
   "cell_type": "code",
   "execution_count": 1,
   "metadata": {},
   "outputs": [],
   "source": [
    "import numpy as np \n",
    "import pandas as pd \n",
    "import re"
   ]
  },
  {
   "cell_type": "code",
   "execution_count": 2,
   "metadata": {},
   "outputs": [],
   "source": [
    "from filter_pseudogene_class import FilterPseudoGeneParams, FilterPseudoGene"
   ]
  },
  {
   "cell_type": "code",
   "execution_count": 3,
   "metadata": {},
   "outputs": [],
   "source": [
    "filter_params = FilterPseudoGeneParams()   \n",
    "filter_params.save_data = True \n",
    "filter_params.query_file = 'AnaPla_step_4_result_mafftAlignment.fasta'"
   ]
  },
  {
   "cell_type": "code",
   "execution_count": 4,
   "metadata": {},
   "outputs": [],
   "source": [
    "filter_OR = FilterPseudoGene(filter_params)\n",
    "filter_OR.filter_genes()"
   ]
  },
  {
   "cell_type": "code",
   "execution_count": 7,
   "metadata": {},
   "outputs": [
    {
     "data": {
      "text/plain": [
       "count      1272\n",
       "unique        2\n",
       "top       False\n",
       "freq       1198\n",
       "Name: mismatch, dtype: object"
      ]
     },
     "execution_count": 7,
     "metadata": {},
     "output_type": "execute_result"
    }
   ],
   "source": [
    "filter_OR.query_df.mismatch.describe()"
   ]
  },
  {
   "cell_type": "code",
   "execution_count": 9,
   "metadata": {},
   "outputs": [
    {
     "data": {
      "text/html": [
       "<div>\n",
       "<style scoped>\n",
       "    .dataframe tbody tr th:only-of-type {\n",
       "        vertical-align: middle;\n",
       "    }\n",
       "\n",
       "    .dataframe tbody tr th {\n",
       "        vertical-align: top;\n",
       "    }\n",
       "\n",
       "    .dataframe thead th {\n",
       "        text-align: right;\n",
       "    }\n",
       "</style>\n",
       "<table border=\"1\" class=\"dataframe\">\n",
       "  <thead>\n",
       "    <tr style=\"text-align: right;\">\n",
       "      <th></th>\n",
       "      <th>name</th>\n",
       "      <th>sequence</th>\n",
       "      <th>mismatch</th>\n",
       "    </tr>\n",
       "  </thead>\n",
       "  <tbody>\n",
       "    <tr>\n",
       "      <th>0</th>\n",
       "      <td>Human_OR2J3</td>\n",
       "      <td>----------------------------------------------...</td>\n",
       "      <td>False</td>\n",
       "    </tr>\n",
       "    <tr>\n",
       "      <th>1</th>\n",
       "      <td>AnaPla_JACEUM010000037.1_960689_961639_1::JACE...</td>\n",
       "      <td>----------------------------------------------...</td>\n",
       "      <td>False</td>\n",
       "    </tr>\n",
       "    <tr>\n",
       "      <th>2</th>\n",
       "      <td>AnaPla_JACEUM010000035.1_1529835_1530629_-1::J...</td>\n",
       "      <td>-------------------------ML-------------------...</td>\n",
       "      <td>False</td>\n",
       "    </tr>\n",
       "    <tr>\n",
       "      <th>3</th>\n",
       "      <td>AnaPla_JACEUM010000037.1_2837900_2838805_1::JA...</td>\n",
       "      <td>----------------------------------------------...</td>\n",
       "      <td>False</td>\n",
       "    </tr>\n",
       "    <tr>\n",
       "      <th>4</th>\n",
       "      <td>AnaPla_JACEUM010000036.1_1290376_1291296_-1::J...</td>\n",
       "      <td>----------------------------------------------...</td>\n",
       "      <td>False</td>\n",
       "    </tr>\n",
       "    <tr>\n",
       "      <th>...</th>\n",
       "      <td>...</td>\n",
       "      <td>...</td>\n",
       "      <td>...</td>\n",
       "    </tr>\n",
       "    <tr>\n",
       "      <th>1267</th>\n",
       "      <td>AnaPla_JACEUM010000037.1_3757518_3758420_-1::J...</td>\n",
       "      <td>----------------------------------------------...</td>\n",
       "      <td>False</td>\n",
       "    </tr>\n",
       "    <tr>\n",
       "      <th>1268</th>\n",
       "      <td>AnaPla_JACEUM010000036.1_388859_389782_1::JACE...</td>\n",
       "      <td>----------------------------------------------...</td>\n",
       "      <td>False</td>\n",
       "    </tr>\n",
       "    <tr>\n",
       "      <th>1269</th>\n",
       "      <td>AnaPla_JACEUM010000036.1_707184_708107_1::JACE...</td>\n",
       "      <td>----------------------------------------------...</td>\n",
       "      <td>False</td>\n",
       "    </tr>\n",
       "    <tr>\n",
       "      <th>1270</th>\n",
       "      <td>AnaPla_JACEUM010000034.1_1735327_1736265_1::JA...</td>\n",
       "      <td>----------------------------------------------...</td>\n",
       "      <td>False</td>\n",
       "    </tr>\n",
       "    <tr>\n",
       "      <th>1271</th>\n",
       "      <td>AnaPla_JACEUM010000036.1_3019374_3020333_1::JA...</td>\n",
       "      <td>----------------------------------------------...</td>\n",
       "      <td>False</td>\n",
       "    </tr>\n",
       "  </tbody>\n",
       "</table>\n",
       "<p>1198 rows × 3 columns</p>\n",
       "</div>"
      ],
      "text/plain": [
       "                                                   name  \\\n",
       "0                                           Human_OR2J3   \n",
       "1     AnaPla_JACEUM010000037.1_960689_961639_1::JACE...   \n",
       "2     AnaPla_JACEUM010000035.1_1529835_1530629_-1::J...   \n",
       "3     AnaPla_JACEUM010000037.1_2837900_2838805_1::JA...   \n",
       "4     AnaPla_JACEUM010000036.1_1290376_1291296_-1::J...   \n",
       "...                                                 ...   \n",
       "1267  AnaPla_JACEUM010000037.1_3757518_3758420_-1::J...   \n",
       "1268  AnaPla_JACEUM010000036.1_388859_389782_1::JACE...   \n",
       "1269  AnaPla_JACEUM010000036.1_707184_708107_1::JACE...   \n",
       "1270  AnaPla_JACEUM010000034.1_1735327_1736265_1::JA...   \n",
       "1271  AnaPla_JACEUM010000036.1_3019374_3020333_1::JA...   \n",
       "\n",
       "                                               sequence  mismatch  \n",
       "0     ----------------------------------------------...     False  \n",
       "1     ----------------------------------------------...     False  \n",
       "2     -------------------------ML-------------------...     False  \n",
       "3     ----------------------------------------------...     False  \n",
       "4     ----------------------------------------------...     False  \n",
       "...                                                 ...       ...  \n",
       "1267  ----------------------------------------------...     False  \n",
       "1268  ----------------------------------------------...     False  \n",
       "1269  ----------------------------------------------...     False  \n",
       "1270  ----------------------------------------------...     False  \n",
       "1271  ----------------------------------------------...     False  \n",
       "\n",
       "[1198 rows x 3 columns]"
      ]
     },
     "execution_count": 9,
     "metadata": {},
     "output_type": "execute_result"
    }
   ],
   "source": [
    "filter_OR.query_df[~filter_OR.query_df['mismatch']]"
   ]
  },
  {
   "cell_type": "code",
   "execution_count": null,
   "metadata": {},
   "outputs": [],
   "source": []
  }
 ],
 "metadata": {
  "kernelspec": {
   "display_name": "base",
   "language": "python",
   "name": "python3"
  },
  "language_info": {
   "codemirror_mode": {
    "name": "ipython",
    "version": 3
   },
   "file_extension": ".py",
   "mimetype": "text/x-python",
   "name": "python",
   "nbconvert_exporter": "python",
   "pygments_lexer": "ipython3",
   "version": "3.8.8"
  },
  "orig_nbformat": 4
 },
 "nbformat": 4,
 "nbformat_minor": 2
}
