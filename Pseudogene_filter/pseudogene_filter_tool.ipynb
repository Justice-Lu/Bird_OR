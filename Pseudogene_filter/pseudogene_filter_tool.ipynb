{
 "cells": [
  {
   "cell_type": "code",
   "execution_count": 1,
   "metadata": {},
   "outputs": [],
   "source": [
    "import numpy as np \n",
    "import pandas as pd \n",
    "import re"
   ]
  },
  {
   "cell_type": "code",
   "execution_count": 2,
   "metadata": {},
   "outputs": [],
   "source": [
    "import pseudogene_filter_funcstions as func"
   ]
  },
  {
   "cell_type": "code",
   "execution_count": 3,
   "metadata": {},
   "outputs": [],
   "source": [
    "domain_reference = pd.read_csv('./data/HumanORTMD.txt')"
   ]
  },
  {
   "cell_type": "code",
   "execution_count": 4,
   "metadata": {},
   "outputs": [],
   "source": [
    "query_file = 'AnaPla_step_4_result_mafftAlignment.fasta'\n",
    "query = func.read_fasta(f\"./data/{query_file}\")"
   ]
  },
  {
   "cell_type": "code",
   "execution_count": 5,
   "metadata": {},
   "outputs": [],
   "source": [
    "# Adds in start and end location of domains for current alignment. \n",
    "domain_reference = func.get_domain_info(domain_reference, \n",
    "                                        human_seq = query[query['name'] == 'Human_OR2J3'].sequence[0])"
   ]
  },
  {
   "cell_type": "code",
   "execution_count": 6,
   "metadata": {},
   "outputs": [],
   "source": [
    "ref_seq = query[query['name'].str.contains('Human')].sequence[0]\n",
    "\n",
    "query['mismatch'] = False\n",
    "for index, row in query.iterrows():\n",
    "    for domain in ['TM1', 'TM2', 'TM3', 'TM4', 'TM5', 'TM6', 'TM7']:\n",
    "        start = int(domain_reference[domain_reference['domain'] == domain].start)\n",
    "        end = int(domain_reference[domain_reference['domain'] == domain].end)\n",
    "\n",
    "        # Searching for mismatches between seq \n",
    "        mismatch = func.seq_mismatch(ref_seq[start:end],\n",
    "                                    row.sequence[start:end], \n",
    "                                    consecutive_mismatch_threshold = 5)\n",
    "\n",
    "        if mismatch == True:\n",
    "            query.loc[query['name'] == row['name'], 'mismatch'] = mismatch\n",
    "            break\n",
    "        \n",
    "        # If there are < 5 aa after the TM7 domain then mismatch also True\n",
    "        if domain == 'TM7':\n",
    "            c_term_len = len(row.sequence[end+1:len(row.sequence)].replace('-',''))\n",
    "            if c_term_len <= 5:\n",
    "                query.loc[query['name'] == row['name'], 'mismatch'] = True\n",
    "                "
   ]
  },
  {
   "cell_type": "code",
   "execution_count": 7,
   "metadata": {},
   "outputs": [],
   "source": [
    "query.to_csv(f\"./output/{query_file}\", index = 0)"
   ]
  },
  {
   "cell_type": "code",
   "execution_count": 8,
   "metadata": {},
   "outputs": [],
   "source": [
    "removed_query = func.read_fasta('./data/AnaPla_step_4_result_mafftAlignment_einsi_removed3_realign3.fasta')\n",
    "removed_query['remove_Niv'] = False"
   ]
  },
  {
   "cell_type": "code",
   "execution_count": 9,
   "metadata": {},
   "outputs": [],
   "source": [
    "query = pd.merge(query, removed_query[['name', 'remove_Niv']], on=['name'], how = 'outer').replace(np.nan, True)"
   ]
  },
  {
   "cell_type": "code",
   "execution_count": null,
   "metadata": {},
   "outputs": [],
   "source": [
    "pd.set_option('display.max_rows', None)\n",
    "pd.set_option('display.max_columns', None)\n",
    "pd.set_option('display.width', None)\n",
    "\n",
    "query[(query.mismatch==True) | (query.remove_Niv==True)]"
   ]
  },
  {
   "cell_type": "code",
   "execution_count": 11,
   "metadata": {},
   "outputs": [
    {
     "data": {
      "text/html": [
       "<div>\n",
       "<style scoped>\n",
       "    .dataframe tbody tr th:only-of-type {\n",
       "        vertical-align: middle;\n",
       "    }\n",
       "\n",
       "    .dataframe tbody tr th {\n",
       "        vertical-align: top;\n",
       "    }\n",
       "\n",
       "    .dataframe thead th {\n",
       "        text-align: right;\n",
       "    }\n",
       "</style>\n",
       "<table border=\"1\" class=\"dataframe\">\n",
       "  <thead>\n",
       "    <tr style=\"text-align: right;\">\n",
       "      <th></th>\n",
       "      <th>name</th>\n",
       "      <th>sequence</th>\n",
       "      <th>mismatch</th>\n",
       "      <th>remove_Niv</th>\n",
       "    </tr>\n",
       "  </thead>\n",
       "  <tbody>\n",
       "    <tr>\n",
       "      <th>22</th>\n",
       "      <td>AnaPla_JACEUM010000035.1_1492505_1493362_-1::J...</td>\n",
       "      <td>----------------------------------------------...</td>\n",
       "      <td>True</td>\n",
       "      <td>False</td>\n",
       "    </tr>\n",
       "    <tr>\n",
       "      <th>130</th>\n",
       "      <td>AnaPla_JACEUM010000035.1_2943761_2944702_1::JA...</td>\n",
       "      <td>----------------------------------------------...</td>\n",
       "      <td>True</td>\n",
       "      <td>False</td>\n",
       "    </tr>\n",
       "    <tr>\n",
       "      <th>221</th>\n",
       "      <td>AnaPla_JACEUM010000035.1_653574_654479_-1::JAC...</td>\n",
       "      <td>-------------------------M--------------------...</td>\n",
       "      <td>True</td>\n",
       "      <td>False</td>\n",
       "    </tr>\n",
       "    <tr>\n",
       "      <th>433</th>\n",
       "      <td>AnaPla_JACEUM010000034.1_1066488_1067330_-1::J...</td>\n",
       "      <td>----------------------------------------------...</td>\n",
       "      <td>True</td>\n",
       "      <td>False</td>\n",
       "    </tr>\n",
       "    <tr>\n",
       "      <th>984</th>\n",
       "      <td>AnaPla_JACEUM010000037.1_808288_809142_1::JACE...</td>\n",
       "      <td>-------------------------M--------------------...</td>\n",
       "      <td>True</td>\n",
       "      <td>False</td>\n",
       "    </tr>\n",
       "    <tr>\n",
       "      <th>1103</th>\n",
       "      <td>AnaPla_JACEUM010000036.1_2017899_2018705_1::JA...</td>\n",
       "      <td>----------------------------------------------...</td>\n",
       "      <td>True</td>\n",
       "      <td>False</td>\n",
       "    </tr>\n",
       "    <tr>\n",
       "      <th>1193</th>\n",
       "      <td>AnaPla_JACEUM010000036.1_206011_206817_-1::JAC...</td>\n",
       "      <td>----------------------------------------------...</td>\n",
       "      <td>True</td>\n",
       "      <td>False</td>\n",
       "    </tr>\n",
       "  </tbody>\n",
       "</table>\n",
       "</div>"
      ],
      "text/plain": [
       "                                                   name  \\\n",
       "22    AnaPla_JACEUM010000035.1_1492505_1493362_-1::J...   \n",
       "130   AnaPla_JACEUM010000035.1_2943761_2944702_1::JA...   \n",
       "221   AnaPla_JACEUM010000035.1_653574_654479_-1::JAC...   \n",
       "433   AnaPla_JACEUM010000034.1_1066488_1067330_-1::J...   \n",
       "984   AnaPla_JACEUM010000037.1_808288_809142_1::JACE...   \n",
       "1103  AnaPla_JACEUM010000036.1_2017899_2018705_1::JA...   \n",
       "1193  AnaPla_JACEUM010000036.1_206011_206817_-1::JAC...   \n",
       "\n",
       "                                               sequence  mismatch  remove_Niv  \n",
       "22    ----------------------------------------------...      True       False  \n",
       "130   ----------------------------------------------...      True       False  \n",
       "221   -------------------------M--------------------...      True       False  \n",
       "433   ----------------------------------------------...      True       False  \n",
       "984   -------------------------M--------------------...      True       False  \n",
       "1103  ----------------------------------------------...      True       False  \n",
       "1193  ----------------------------------------------...      True       False  "
      ]
     },
     "execution_count": 11,
     "metadata": {},
     "output_type": "execute_result"
    }
   ],
   "source": [
    "# Considered non-mismatch but Niv removed \n",
    "query[(query.mismatch==True) & (query.remove_Niv==False)]"
   ]
  },
  {
   "cell_type": "code",
   "execution_count": 12,
   "metadata": {},
   "outputs": [
    {
     "data": {
      "text/html": [
       "<div>\n",
       "<style scoped>\n",
       "    .dataframe tbody tr th:only-of-type {\n",
       "        vertical-align: middle;\n",
       "    }\n",
       "\n",
       "    .dataframe tbody tr th {\n",
       "        vertical-align: top;\n",
       "    }\n",
       "\n",
       "    .dataframe thead th {\n",
       "        text-align: right;\n",
       "    }\n",
       "</style>\n",
       "<table border=\"1\" class=\"dataframe\">\n",
       "  <thead>\n",
       "    <tr style=\"text-align: right;\">\n",
       "      <th></th>\n",
       "      <th>name</th>\n",
       "      <th>sequence</th>\n",
       "      <th>mismatch</th>\n",
       "      <th>remove_Niv</th>\n",
       "    </tr>\n",
       "  </thead>\n",
       "  <tbody>\n",
       "    <tr>\n",
       "      <th>2</th>\n",
       "      <td>AnaPla_JACEUM010000035.1_1529835_1530629_-1::J...</td>\n",
       "      <td>-------------------------ML-------------------...</td>\n",
       "      <td>False</td>\n",
       "      <td>True</td>\n",
       "    </tr>\n",
       "    <tr>\n",
       "      <th>78</th>\n",
       "      <td>AnaPla_JACEUM010000040.1_33698_34492_1::JACEUM...</td>\n",
       "      <td>-------------------------ML-------------------...</td>\n",
       "      <td>False</td>\n",
       "      <td>True</td>\n",
       "    </tr>\n",
       "    <tr>\n",
       "      <th>190</th>\n",
       "      <td>AnaPla_JACEUM010000035.1_3013002_3013946_-1::J...</td>\n",
       "      <td>-------------------------MI-------------------...</td>\n",
       "      <td>False</td>\n",
       "      <td>True</td>\n",
       "    </tr>\n",
       "    <tr>\n",
       "      <th>616</th>\n",
       "      <td>AnaPla_JACEUM010000037.1_1221643_1222437_-1::J...</td>\n",
       "      <td>-------------------------M--------------------...</td>\n",
       "      <td>False</td>\n",
       "      <td>True</td>\n",
       "    </tr>\n",
       "    <tr>\n",
       "      <th>923</th>\n",
       "      <td>AnaPla_JACEUM010000034.1_1378270_1379064_1::JA...</td>\n",
       "      <td>----------------------------------------------...</td>\n",
       "      <td>False</td>\n",
       "      <td>True</td>\n",
       "    </tr>\n",
       "    <tr>\n",
       "      <th>1122</th>\n",
       "      <td>AnaPla_JACEUM010000035.1_1066308_1067117_1::JA...</td>\n",
       "      <td>----------------------------------------------...</td>\n",
       "      <td>False</td>\n",
       "      <td>True</td>\n",
       "    </tr>\n",
       "    <tr>\n",
       "      <th>1262</th>\n",
       "      <td>AnaPla_JACEUM010000314.1_41195_41992_1::JACEUM...</td>\n",
       "      <td>-------------------------MY-------------------...</td>\n",
       "      <td>False</td>\n",
       "      <td>True</td>\n",
       "    </tr>\n",
       "  </tbody>\n",
       "</table>\n",
       "</div>"
      ],
      "text/plain": [
       "                                                   name  \\\n",
       "2     AnaPla_JACEUM010000035.1_1529835_1530629_-1::J...   \n",
       "78    AnaPla_JACEUM010000040.1_33698_34492_1::JACEUM...   \n",
       "190   AnaPla_JACEUM010000035.1_3013002_3013946_-1::J...   \n",
       "616   AnaPla_JACEUM010000037.1_1221643_1222437_-1::J...   \n",
       "923   AnaPla_JACEUM010000034.1_1378270_1379064_1::JA...   \n",
       "1122  AnaPla_JACEUM010000035.1_1066308_1067117_1::JA...   \n",
       "1262  AnaPla_JACEUM010000314.1_41195_41992_1::JACEUM...   \n",
       "\n",
       "                                               sequence  mismatch  remove_Niv  \n",
       "2     -------------------------ML-------------------...     False        True  \n",
       "78    -------------------------ML-------------------...     False        True  \n",
       "190   -------------------------MI-------------------...     False        True  \n",
       "616   -------------------------M--------------------...     False        True  \n",
       "923   ----------------------------------------------...     False        True  \n",
       "1122  ----------------------------------------------...     False        True  \n",
       "1262  -------------------------MY-------------------...     False        True  "
      ]
     },
     "execution_count": 12,
     "metadata": {},
     "output_type": "execute_result"
    }
   ],
   "source": [
    "# Considered non-mismatch but Niv removed \n",
    "query[(query.mismatch==False) & (query.remove_Niv==True)]"
   ]
  },
  {
   "cell_type": "code",
   "execution_count": null,
   "metadata": {},
   "outputs": [],
   "source": [
    "len(query[(query.mismatch==False) & (query.remove_Niv==True)])"
   ]
  },
  {
   "cell_type": "code",
   "execution_count": null,
   "metadata": {},
   "outputs": [],
   "source": []
  },
  {
   "cell_type": "code",
   "execution_count": null,
   "metadata": {},
   "outputs": [],
   "source": []
  }
 ],
 "metadata": {
  "kernelspec": {
   "display_name": "base",
   "language": "python",
   "name": "python3"
  },
  "language_info": {
   "codemirror_mode": {
    "name": "ipython",
    "version": 3
   },
   "file_extension": ".py",
   "mimetype": "text/x-python",
   "name": "python",
   "nbconvert_exporter": "python",
   "pygments_lexer": "ipython3",
   "version": "3.8.8"
  },
  "orig_nbformat": 4
 },
 "nbformat": 4,
 "nbformat_minor": 2
}
